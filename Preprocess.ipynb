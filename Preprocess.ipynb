{
 "cells": [
  {
   "cell_type": "code",
   "execution_count": 4,
   "metadata": {},
   "outputs": [],
   "source": [
    "#Preprocessing Phase 1 - Resolving Empty Fields and Bad data\n",
    "import pandas as pd\n",
    "import numpy as np\n",
    "import datetime as dt\n",
    "from IPython.display import display, HTML\n",
    "import pandas as pd\n",
    "import pickle\n",
    "import joblib\n",
    "from joblib import parallel_backend\n",
    "import datetime\n",
    "\n",
    "from sklearn.model_selection import train_test_split\n",
    "from sklearn import preprocessing\n",
    "\n",
    "from sklearn.naive_bayes import GaussianNB\n",
    "from sklearn.linear_model import LogisticRegression\n",
    "from sklearn.tree import DecisionTreeClassifier\n",
    "\n",
    "from sklearn import neighbors\n",
    "from sklearn.svm import SVC\n",
    "from sklearn.neural_network import MLPClassifier\n",
    "\n",
    "from sklearn.metrics import accuracy_score\n",
    "from sklearn.metrics import precision_score\n",
    "from sklearn.metrics import recall_score\n",
    "\n",
    "from dask.distributed import Client"
   ]
  },
  {
   "cell_type": "code",
   "execution_count": 3,
   "metadata": {},
   "outputs": [
    {
     "data": {
      "text/html": [
       "<table border=\"1\" class=\"dataframe\">\n",
       "  <thead>\n",
       "    <tr style=\"text-align: right;\">\n",
       "      <th></th>\n",
       "      <th>Sno</th>\n",
       "      <th>AGE</th>\n",
       "      <th>SEX</th>\n",
       "      <th>CASTE_NAME</th>\n",
       "      <th>CATEGORY_CODE</th>\n",
       "      <th>CATEGORY_NAME</th>\n",
       "      <th>SURGERY_CODE</th>\n",
       "      <th>SURGERY</th>\n",
       "      <th>VILLAGE</th>\n",
       "      <th>MANDAL_NAME</th>\n",
       "      <th>DISTRICT_NAME</th>\n",
       "      <th>PREAUTH_DATE</th>\n",
       "      <th>PREAUTH_AMT</th>\n",
       "      <th>CLAIM_DATE</th>\n",
       "      <th>CLAIM_AMOUNT</th>\n",
       "      <th>HOSP_NAME</th>\n",
       "      <th>HOSP_TYPE</th>\n",
       "      <th>HOSP_DISTRICT</th>\n",
       "      <th>SURGERY_DATE</th>\n",
       "      <th>DISCHARGE_DATE</th>\n",
       "      <th>Mortality Y / N</th>\n",
       "      <th>MORTALITY_DATE</th>\n",
       "      <th>SRC_REGISTRATION</th>\n",
       "    </tr>\n",
       "  </thead>\n",
       "  <tbody>\n",
       "    <tr>\n",
       "      <th>0</th>\n",
       "      <td>1</td>\n",
       "      <td>56</td>\n",
       "      <td>Female</td>\n",
       "      <td>BC</td>\n",
       "      <td>M6</td>\n",
       "      <td>NEPHROLOGY</td>\n",
       "      <td>M6.5</td>\n",
       "      <td>Maintenance Hemodialysis For Crf</td>\n",
       "      <td>Lolugu</td>\n",
       "      <td>Ponduru</td>\n",
       "      <td>Srikakulam</td>\n",
       "      <td>3/8/2013 20:38</td>\n",
       "      <td>12500</td>\n",
       "      <td>22-03-2017 20:25</td>\n",
       "      <td>11000</td>\n",
       "      <td>Rims Govt. General Hospital, Srikakulam</td>\n",
       "      <td>G</td>\n",
       "      <td>Srikakulam</td>\n",
       "      <td>6/8/2013 0:00</td>\n",
       "      <td>7/9/2013 0:00</td>\n",
       "      <td>NO</td>\n",
       "      <td>NaN</td>\n",
       "      <td>D</td>\n",
       "    </tr>\n",
       "    <tr>\n",
       "      <th>1</th>\n",
       "      <td>2</td>\n",
       "      <td>37</td>\n",
       "      <td>Male</td>\n",
       "      <td>BC</td>\n",
       "      <td>M6</td>\n",
       "      <td>NEPHROLOGY</td>\n",
       "      <td>M6.5</td>\n",
       "      <td>Maintenance Hemodialysis For Crf</td>\n",
       "      <td>Borivanka</td>\n",
       "      <td>Kaviti</td>\n",
       "      <td>Srikakulam</td>\n",
       "      <td>6/8/2013 7:26</td>\n",
       "      <td>12500</td>\n",
       "      <td>22-03-2017 20:25</td>\n",
       "      <td>11000</td>\n",
       "      <td>Rims Govt. General Hospital, Srikakulam</td>\n",
       "      <td>G</td>\n",
       "      <td>Srikakulam</td>\n",
       "      <td>8/8/2013 0:00</td>\n",
       "      <td>9/9/2013 0:00</td>\n",
       "      <td>NO</td>\n",
       "      <td>NaN</td>\n",
       "      <td>D</td>\n",
       "    </tr>\n",
       "    <tr>\n",
       "      <th>2</th>\n",
       "      <td>3</td>\n",
       "      <td>50</td>\n",
       "      <td>Male</td>\n",
       "      <td>BC</td>\n",
       "      <td>M6</td>\n",
       "      <td>NEPHROLOGY</td>\n",
       "      <td>M6.5</td>\n",
       "      <td>Maintenance Hemodialysis For Crf</td>\n",
       "      <td>Kapasakuddi</td>\n",
       "      <td>Kaviti</td>\n",
       "      <td>Srikakulam</td>\n",
       "      <td>9/8/2013 18:30</td>\n",
       "      <td>12500</td>\n",
       "      <td>22-03-2017 20:25</td>\n",
       "      <td>11500</td>\n",
       "      <td>Rims Govt. General Hospital, Srikakulam</td>\n",
       "      <td>G</td>\n",
       "      <td>Srikakulam</td>\n",
       "      <td>15-08-2013 00:00</td>\n",
       "      <td>18-10-2013 00:00</td>\n",
       "      <td>NO</td>\n",
       "      <td>NaN</td>\n",
       "      <td>D</td>\n",
       "    </tr>\n",
       "    <tr>\n",
       "      <th>3</th>\n",
       "      <td>4</td>\n",
       "      <td>45</td>\n",
       "      <td>Male</td>\n",
       "      <td>BC</td>\n",
       "      <td>M6</td>\n",
       "      <td>NEPHROLOGY</td>\n",
       "      <td>M6.5</td>\n",
       "      <td>Maintenance Hemodialysis For Crf</td>\n",
       "      <td>Telikipenta</td>\n",
       "      <td>Sarubujjili</td>\n",
       "      <td>Srikakulam</td>\n",
       "      <td>24-08-2013 19:37</td>\n",
       "      <td>12500</td>\n",
       "      <td>22-03-2017 20:25</td>\n",
       "      <td>11000</td>\n",
       "      <td>Rims Govt. General Hospital, Srikakulam</td>\n",
       "      <td>G</td>\n",
       "      <td>Srikakulam</td>\n",
       "      <td>24-08-2013 00:00</td>\n",
       "      <td>27-09-2013 00:00</td>\n",
       "      <td>NO</td>\n",
       "      <td>NaN</td>\n",
       "      <td>D</td>\n",
       "    </tr>\n",
       "    <tr>\n",
       "      <th>4</th>\n",
       "      <td>5</td>\n",
       "      <td>54</td>\n",
       "      <td>Male</td>\n",
       "      <td>BC</td>\n",
       "      <td>M6</td>\n",
       "      <td>NEPHROLOGY</td>\n",
       "      <td>M6.5</td>\n",
       "      <td>Maintenance Hemodialysis For Crf</td>\n",
       "      <td>Thandemvalasa</td>\n",
       "      <td>Srikakulam</td>\n",
       "      <td>Srikakulam</td>\n",
       "      <td>28-08-2013 17:03</td>\n",
       "      <td>12500</td>\n",
       "      <td>22-03-2017 20:25</td>\n",
       "      <td>11000</td>\n",
       "      <td>Rims Govt. General Hospital, Srikakulam</td>\n",
       "      <td>G</td>\n",
       "      <td>Srikakulam</td>\n",
       "      <td>31-08-2013 00:00</td>\n",
       "      <td>2/10/2013 0:00</td>\n",
       "      <td>NO</td>\n",
       "      <td>NaN</td>\n",
       "      <td>D</td>\n",
       "    </tr>\n",
       "  </tbody>\n",
       "</table>"
      ],
      "text/plain": [
       "<IPython.core.display.HTML object>"
      ]
     },
     "metadata": {},
     "output_type": "display_data"
    }
   ],
   "source": [
    "df = pd.read_csv('Andhra_Health_Data.csv');\n",
    "display(HTML(df.head(5).to_html()))"
   ]
  },
  {
   "cell_type": "code",
   "execution_count": 4,
   "metadata": {},
   "outputs": [
    {
     "name": "stdout",
     "output_type": "stream",
     "text": [
      "<class 'pandas.core.frame.DataFrame'>\n",
      "RangeIndex: 479688 entries, 0 to 479687\n",
      "Data columns (total 23 columns):\n",
      "Sno                 479688 non-null int64\n",
      "AGE                 479688 non-null int64\n",
      "SEX                 479688 non-null object\n",
      "CASTE_NAME          479688 non-null object\n",
      "CATEGORY_CODE       479688 non-null object\n",
      "CATEGORY_NAME       479688 non-null object\n",
      "SURGERY_CODE        479688 non-null object\n",
      "SURGERY             479688 non-null object\n",
      "VILLAGE             479688 non-null object\n",
      "MANDAL_NAME         479688 non-null object\n",
      "DISTRICT_NAME       479688 non-null object\n",
      "PREAUTH_DATE        479688 non-null object\n",
      "PREAUTH_AMT         479688 non-null int64\n",
      "CLAIM_DATE          479688 non-null object\n",
      "CLAIM_AMOUNT        479688 non-null int64\n",
      "HOSP_NAME           479688 non-null object\n",
      "HOSP_TYPE           479688 non-null object\n",
      "HOSP_DISTRICT       479688 non-null object\n",
      "SURGERY_DATE        479688 non-null object\n",
      "DISCHARGE_DATE      475128 non-null object\n",
      "Mortality Y / N     479688 non-null object\n",
      "MORTALITY_DATE      10122 non-null object\n",
      "SRC_REGISTRATION    479688 non-null object\n",
      "dtypes: int64(4), object(19)\n",
      "memory usage: 84.2+ MB\n",
      "Sno , int64 , False\n",
      "AGE , int64 , False\n",
      "SEX , object , False\n",
      "CASTE_NAME , object , False\n",
      "CATEGORY_CODE , object , False\n",
      "CATEGORY_NAME , object , False\n",
      "SURGERY_CODE , object , False\n",
      "SURGERY , object , False\n",
      "VILLAGE , object , False\n",
      "MANDAL_NAME , object , False\n",
      "DISTRICT_NAME , object , False\n",
      "PREAUTH_DATE , object , False\n",
      "PREAUTH_AMT , int64 , False\n",
      "CLAIM_DATE , object , False\n",
      "CLAIM_AMOUNT , int64 , False\n",
      "HOSP_NAME , object , False\n",
      "HOSP_TYPE , object , False\n",
      "HOSP_DISTRICT , object , False\n",
      "SURGERY_DATE , object , False\n",
      "DISCHARGE_DATE , object , True\n",
      "Mortality Y / N , object , False\n",
      "MORTALITY_DATE , object , True\n",
      "SRC_REGISTRATION , object , False\n"
     ]
    }
   ],
   "source": [
    "df.info()\n",
    "cols = df.columns\n",
    "\n",
    "for i in cols:\n",
    "    print(i, ',', df[i].dtype,',',df[i].isnull().any())"
   ]
  },
  {
   "cell_type": "code",
   "execution_count": null,
   "metadata": {},
   "outputs": [],
   "source": [
    "#Blank cells in \"DISCHAREGE_DATE\"  and \"MORTALITY_DATE\" are observed.\n",
    "# MORTALITY_DATE is date on which patient dies. IF it is blank that means patient was alive after treatment.\n",
    "# In that case the DISCHARGE_DATE is blank. So we will populate empty DISCHARGE_DATE with MORTALITY_DATE"
   ]
  },
  {
   "cell_type": "code",
   "execution_count": 5,
   "metadata": {},
   "outputs": [],
   "source": [
    "df['DISCHARGE_DATE'] = df['DISCHARGE_DATE'].combine_first(df['MORTALITY_DATE'])"
   ]
  },
  {
   "cell_type": "code",
   "execution_count": null,
   "metadata": {},
   "outputs": [],
   "source": [
    "# Further we need to check if any row exist where both column \"DISCHARGE_DATE\" and \"MORTALITY_DATE\" are blank"
   ]
  },
  {
   "cell_type": "code",
   "execution_count": 6,
   "metadata": {},
   "outputs": [
    {
     "name": "stdout",
     "output_type": "stream",
     "text": [
      "x:            Sno  AGE   SEX CASTE_NAME CATEGORY_CODE CATEGORY_NAME SURGERY_CODE  \\\n",
      "148162  148163   51  Male         SC            M6    NEPHROLOGY         M6.5   \n",
      "\n",
      "                                 SURGERY       VILLAGE    MANDAL_NAME  ...  \\\n",
      "148162  Maintenance Hemodialysis For Crf  Venkatapuram  Banaganapalle  ...   \n",
      "\n",
      "              CLAIM_DATE CLAIM_AMOUNT  \\\n",
      "148162  25-05-2017 20:39        12500   \n",
      "\n",
      "                                                HOSP_NAME HOSP_TYPE  \\\n",
      "148162  OMNI Hospitals, a unit of Ms. Incor Padmachand...         C   \n",
      "\n",
      "        HOSP_DISTRICT      SURGERY_DATE DISCHARGE_DATE Mortality Y / N  \\\n",
      "148162        Kurnool  27-12-2016 00:00            NaN              NO   \n",
      "\n",
      "       MORTALITY_DATE SRC_REGISTRATION  \n",
      "148162            NaN                D  \n",
      "\n",
      "[1 rows x 23 columns]\n"
     ]
    }
   ],
   "source": [
    "x = df[(df['DISCHARGE_DATE']).isnull() & (df['MORTALITY_DATE']).isnull()]\n",
    "print(\"x:\",x)"
   ]
  },
  {
   "cell_type": "code",
   "execution_count": null,
   "metadata": {},
   "outputs": [],
   "source": [
    "# Because only one such row exist, (148162), We will investigate if dataset is imbalanced or not.\n",
    "# If dataset is imbalanced,and row is in majority then we will drop this row, else we will retain it."
   ]
  },
  {
   "cell_type": "code",
   "execution_count": 7,
   "metadata": {},
   "outputs": [
    {
     "name": "stdout",
     "output_type": "stream",
     "text": [
      "Target Column analysis\n",
      "NO     469566\n",
      "YES     10122\n",
      "Name: Mortality Y / N, dtype: int64\n"
     ]
    }
   ],
   "source": [
    "#Our target column is \"Morality Y/N\", So we will investigate this column.\n",
    "print(\"Target Column analysis\")\n",
    "print(df[\"Mortality Y / N\"].value_counts())"
   ]
  },
  {
   "cell_type": "code",
   "execution_count": 8,
   "metadata": {},
   "outputs": [],
   "source": [
    "# Since NO is 469566 and YES is 10122, dataset is imbalanced and row x(148162) is in majority, so we will drop this row.\n",
    "#Discahrge_Date has only one row with empty value. So we will implement this.\n",
    "df=df[df['DISCHARGE_DATE'].notna()]"
   ]
  },
  {
   "cell_type": "code",
   "execution_count": 9,
   "metadata": {},
   "outputs": [],
   "source": [
    "#We start preprocessing by dropping unnecessary column.\n",
    "df=df.drop('Sno',axis=1) #We drop first column Sno, which is index column\n",
    "df = df.drop('MORTALITY_DATE',axis=1) #Mortality Date is the date when patient died. We are droppinng this because we have \"Mortality Y/N\" Column, which says if patient is dead or not. We dont need to know when patient died.\n",
    "df = df.drop('CLAIM_DATE',axis=1)  #The date patient receives his claim. This date comes way after patient is discharged or dies during surgery.\n",
    "df = df.drop('CLAIM_AMOUNT',axis=1) #The Amount received by patient after surgery is performed. It could e less than or equal to PreAuth Amount.\n",
    "df = df.drop('CATEGORY_NAME',axis=1) #We are Dropping Category_Name because We have \"CATEGORY_CODE\" column which is mapped with each category.\n",
    "df = df.drop('SURGERY',axis=1)  #We are dropping \"SURGERY\" Column because we have \"SURGERY_CODE\" column mapped with \"SURGERY\" Column"
   ]
  },
  {
   "cell_type": "code",
   "execution_count": 10,
   "metadata": {},
   "outputs": [],
   "source": [
    "#The SEX column has 4 vales -Male,Female, Male(Child) and Female(Child)\n",
    "# Child label is applied to patient whose age is between 0-14\n",
    "# We convert Male(Child)  to Male and similarly Female(Child) to Female\n",
    "# because we already have age column.\n",
    "df['SEX'] = df['SEX'].replace(['Male(Child)'],'Male');\n",
    "df['SEX'] = df['SEX'].replace(['MALE'],'Male');\n",
    "df['SEX'] = df['SEX'].replace(['Female(Child)'],'Female');\n",
    "df['SEX'] = df['SEX'].replace(['FEMALE'],'Female');"
   ]
  },
  {
   "cell_type": "code",
   "execution_count": 11,
   "metadata": {},
   "outputs": [
    {
     "name": "stdout",
     "output_type": "stream",
     "text": [
      "AGE , int64 , False\n",
      "SEX , object , False\n",
      "CASTE_NAME , object , False\n",
      "CATEGORY_CODE , object , False\n",
      "SURGERY_CODE , object , False\n",
      "VILLAGE , object , False\n",
      "MANDAL_NAME , object , False\n",
      "DISTRICT_NAME , object , False\n",
      "PREAUTH_DATE , object , False\n",
      "PREAUTH_AMT , int64 , False\n",
      "HOSP_NAME , object , False\n",
      "HOSP_TYPE , object , False\n",
      "HOSP_DISTRICT , object , False\n",
      "SURGERY_DATE , object , False\n",
      "DISCHARGE_DATE , object , False\n",
      "Mortality Y / N , object , False\n",
      "SRC_REGISTRATION , object , False\n"
     ]
    }
   ],
   "source": [
    "cols = df.columns\n",
    "for i in cols:\n",
    " print(i, ',', df[i].dtype,',',df[i].isnull().any())\n",
    "# Now we need to fill blank cells in \"DISCHARGE_DATE\" column only."
   ]
  },
  {
   "cell_type": "code",
   "execution_count": 12,
   "metadata": {},
   "outputs": [],
   "source": [
    "#Before that we need to keep all date columns in single date format.\n",
    "#Date is in two formats. One is DD-MM-YYYY HH:MM. Other is DD/MM/YYYY HH:MM\n",
    "#Below code snippet will give all dates in MM/DD/YYYY HH:MM Format and convert to unix format\n",
    "\n",
    "df['PREAUTH_DATE'] = pd.to_datetime(df['PREAUTH_DATE'], infer_datetime_format=True, dayfirst=True)"
   ]
  },
  {
   "cell_type": "code",
   "execution_count": 13,
   "metadata": {},
   "outputs": [],
   "source": [
    "df['SURGERY_DATE'] = pd.to_datetime(df['SURGERY_DATE'], infer_datetime_format=True, dayfirst=True)\n",
    "#df['SURGERY_DATE'] = df['SURGERY_DATE'].values.astype(np.int64)\n",
    "\n",
    "#We observed that one date in \"DISCHARGE_DATE\" column wast stored as 30/04/0116. When we checked for same row \"mortality date\" column it was 30/04/2016.\n",
    "#Since \"MORTALITY Y/N\" Column is marked Yes, We replace 30/04/0116 with 30/04/2016"
   ]
  },
  {
   "cell_type": "code",
   "execution_count": 14,
   "metadata": {},
   "outputs": [
    {
     "name": "stdout",
     "output_type": "stream",
     "text": [
      "      AGE   SEX CASTE_NAME CATEGORY_CODE SURGERY_CODE        VILLAGE  \\\n",
      "1767   44  Male         ST            M6         M6.5     Ratnapuram   \n",
      "2856   44  Male         ST            M6         M6.5  Kusumanapalli   \n",
      "\n",
      "       MANDAL_NAME  DISTRICT_NAME        PREAUTH_DATE  PREAUTH_AMT  \\\n",
      "1767       Chintur  East Godavari 2016-01-27 01:00:00        12500   \n",
      "2856  Bhadrachalam  East Godavari 2016-02-26 18:33:00        12500   \n",
      "\n",
      "                       HOSP_NAME HOSP_TYPE HOSP_DISTRICT SURGERY_DATE  \\\n",
      "1767  District Hospital-Khammam-         G       Khammam   2016-01-27   \n",
      "2856  District Hospital-Khammam-         G       Khammam   2016-03-02   \n",
      "\n",
      "           DISCHARGE_DATE Mortality Y / N SRC_REGISTRATION  \n",
      "1767  30/04/0116 00:00:00             YES                D  \n",
      "2856  30/04/0116 00:00:00             YES                D  \n"
     ]
    }
   ],
   "source": [
    "p = df[df['DISCHARGE_DATE'] == \"30/04/0116 00:00:00\"]\n",
    "print(p)\n",
    "# dataframe p shows 2 rows where above bad date is stored. We will replace that date with Mortality date"
   ]
  },
  {
   "cell_type": "code",
   "execution_count": 15,
   "metadata": {},
   "outputs": [
    {
     "name": "stdout",
     "output_type": "stream",
     "text": [
      "Empty DataFrame\n",
      "Columns: [AGE, SEX, CASTE_NAME, CATEGORY_CODE, SURGERY_CODE, VILLAGE, MANDAL_NAME, DISTRICT_NAME, PREAUTH_DATE, PREAUTH_AMT, HOSP_NAME, HOSP_TYPE, HOSP_DISTRICT, SURGERY_DATE, DISCHARGE_DATE, Mortality Y / N, SRC_REGISTRATION]\n",
      "Index: []\n"
     ]
    }
   ],
   "source": [
    "df['DISCHARGE_DATE'] = df['DISCHARGE_DATE'].replace(['30/04/0116 00:00:00'],'30-04-2016 00:00')\n",
    "\n",
    "p = df[df['DISCHARGE_DATE'] == \"30/04/0116 00:00:00\"]\n",
    "print(p)\n",
    "#P is empty, Hence no bad date further exist"
   ]
  },
  {
   "cell_type": "code",
   "execution_count": 16,
   "metadata": {},
   "outputs": [],
   "source": [
    "df['DISCHARGE_DATE'] = pd.to_datetime(df['DISCHARGE_DATE'], infer_datetime_format=True, dayfirst=True)"
   ]
  },
  {
   "cell_type": "code",
   "execution_count": 17,
   "metadata": {},
   "outputs": [],
   "source": [
    "df[\"Diff_SURGERY_PREAUTH\"]= (df[\"SURGERY_DATE\"] - df[\"PREAUTH_DATE\"]).dt.days\n",
    "df[\"Diff_Discharge_PREAUTH\"] = (df[\"DISCHARGE_DATE\"] - df[\"PREAUTH_DATE\"]).dt.days\n",
    "df=df.drop('SURGERY_DATE',axis=1)\n",
    "df=df.drop('PREAUTH_DATE',axis=1)\n",
    "df=df.drop('DISCHARGE_DATE',axis=1)\n",
    "#All DateColumns are processesed and save as Python Date Object. We drop all original columns"
   ]
  },
  {
   "cell_type": "code",
   "execution_count": 18,
   "metadata": {},
   "outputs": [],
   "source": [
    "#We save this data for further processing\n",
    "df.to_csv(\"file.csv\",index=False)"
   ]
  },
  {
   "cell_type": "code",
   "execution_count": 92,
   "metadata": {},
   "outputs": [
    {
     "data": {
      "text/plain": [
       "<seaborn.axisgrid.FacetGrid at 0x264f154dd08>"
      ]
     },
     "execution_count": 92,
     "metadata": {},
     "output_type": "execute_result"
    },
    {
     "data": {
      "image/png": "[encoded data removed]",
      "text/plain": [
       "<Figure size 360x360 with 1 Axes>"
      ]
     },
     "metadata": {
      "needs_background": "light"
     },
     "output_type": "display_data"
    },
    {
     "data": {
      "image/png": "[encoded data removed]",
      "text/plain": [
       "<Figure size 360x360 with 1 Axes>"
      ]
     },
     "metadata": {
      "needs_background": "light"
     },
     "output_type": "display_data"
    }
   ],
   "source": [
    "#Analysis\n",
    "import seaborn as sn \n",
    "\n",
    "df = pd.read_csv(\"file.csv\")\n",
    "df1  =  df[df[\"Mortality Y / N\"]==\"YES\"]\n",
    "sn.factorplot('CASTE_NAME',data = df1, kind='count')\n",
    "sn.factorplot('SEX',data = df1, kind='count')"
   ]
  },
  {
   "cell_type": "code",
   "execution_count": 101,
   "metadata": {},
   "outputs": [
    {
     "data": {
      "text/plain": [
       "<seaborn.axisgrid.FacetGrid at 0x26531a08248>"
      ]
     },
     "execution_count": 101,
     "metadata": {},
     "output_type": "execute_result"
    },
    {
     "data": {
      "image/png": "[encoded data removed]",
      "text/plain": [
       "<Figure size 1080x720 with 1 Axes>"
      ]
     },
     "metadata": {},
     "output_type": "display_data"
    }
   ],
   "source": [
    "pl=sn.factorplot('AGE',data = df1, kind='count', height = 10, aspect = 15/10)\n",
    "pl.set_xticklabels(step=5)"
   ]
  },
  {
   "cell_type": "code",
   "execution_count": 100,
   "metadata": {},
   "outputs": [
    {
     "data": {
      "text/plain": [
       "Nellore           1255\n",
       "West Godavari      988\n",
       "Guntur             914\n",
       "Kurnool            892\n",
       "Chittoor           862\n",
       "Krishna            840\n",
       "East Godavari      801\n",
       "Vishakhapatnam     794\n",
       "Prakasam           733\n",
       "YSR Kadapa         542\n",
       "Anantapur          504\n",
       "Vizianagaram       500\n",
       "Srikakulam         497\n",
       "Name: DISTRICT_NAME, dtype: int64"
      ]
     },
     "execution_count": 100,
     "metadata": {},
     "output_type": "execute_result"
    },
    {
     "data": {
      "image/png": "[encoded data removed]",
      "text/plain": [
       "<Figure size 1080x720 with 1 Axes>"
      ]
     },
     "metadata": {},
     "output_type": "display_data"
    }
   ],
   "source": [
    "sn.factorplot('DISTRICT_NAME',data = df1, kind='count', height = 10, aspect = 15/10)\n",
    "df1['DISTRICT_NAME'].value_counts()"
   ]
  },
  {
   "cell_type": "code",
   "execution_count": 103,
   "metadata": {},
   "outputs": [
    {
     "data": {
      "text/plain": [
       "C    6128\n",
       "G    3994\n",
       "Name: HOSP_TYPE, dtype: int64"
      ]
     },
     "execution_count": 103,
     "metadata": {},
     "output_type": "execute_result"
    },
    {
     "data": {
      "image/png": "[encoded data removed]",
      "text/plain": [
       "<Figure size 360x360 with 1 Axes>"
      ]
     },
     "metadata": {},
     "output_type": "display_data"
    }
   ],
   "source": [
    "sn.factorplot('HOSP_TYPE',data = df1, kind='count')\n",
    "df1['HOSP_TYPE'].value_counts()"
   ]
  },
  {
   "cell_type": "code",
   "execution_count": 104,
   "metadata": {},
   "outputs": [
    {
     "data": {
      "text/plain": [
       "D      9247\n",
       "P       418\n",
       "CMO     271\n",
       "MC      186\n",
       "Name: SRC_REGISTRATION, dtype: int64"
      ]
     },
     "execution_count": 104,
     "metadata": {},
     "output_type": "execute_result"
    },
    {
     "data": {
      "image/png": "[encoded data removed]",
      "text/plain": [
       "<Figure size 360x360 with 1 Axes>"
      ]
     },
     "metadata": {},
     "output_type": "display_data"
    }
   ],
   "source": [
    "sn.factorplot('SRC_REGISTRATION',data = df1, kind='count')\n",
    "df1['SRC_REGISTRATION'].value_counts()"
   ]
  },
  {
   "cell_type": "code",
   "execution_count": 109,
   "metadata": {},
   "outputs": [
    {
     "data": {
      "text/plain": [
       "-2     2054\n",
       "-3     1491\n",
       "-1     1106\n",
       "-4      914\n",
       " 0      863\n",
       "       ... \n",
       " 35       1\n",
       "-94       1\n",
       " 74       1\n",
       " 34       1\n",
       " 63       1\n",
       "Name: Diff_SURGERY_PREAUTH, Length: 95, dtype: int64"
      ]
     },
     "execution_count": 109,
     "metadata": {},
     "output_type": "execute_result"
    },
    {
     "data": {
      "image/png": "[encoded data removed]",
      "text/plain": [
       "<Figure size 2160x720 with 1 Axes>"
      ]
     },
     "metadata": {},
     "output_type": "display_data"
    }
   ],
   "source": [
    "sn.factorplot('Diff_SURGERY_PREAUTH',data = df1, kind='count',height = 10, aspect = 30/10)\n",
    "df1['Diff_SURGERY_PREAUTH'].value_counts()"
   ]
  },
  {
   "cell_type": "code",
   "execution_count": 111,
   "metadata": {},
   "outputs": [
    {
     "data": {
      "text/plain": [
       "-1      944\n",
       " 0      752\n",
       "-2      729\n",
       " 1      686\n",
       " 2      568\n",
       "       ... \n",
       "-36       1\n",
       " 84       1\n",
       " 100      1\n",
       " 116      1\n",
       " 203      1\n",
       "Name: Diff_Discharge_PREAUTH, Length: 170, dtype: int64"
      ]
     },
     "execution_count": 111,
     "metadata": {},
     "output_type": "execute_result"
    },
    {
     "data": {
      "image/png": "[encoded data removed]",
      "text/plain": [
       "<Figure size 2160x720 with 1 Axes>"
      ]
     },
     "metadata": {},
     "output_type": "display_data"
    }
   ],
   "source": [
    "sn.factorplot('Diff_Discharge_PREAUTH',data = df1, kind='count',height = 10, aspect = 30/10)\n",
    "df1['Diff_Discharge_PREAUTH'].value_counts()"
   ]
  },
  {
   "cell_type": "code",
   "execution_count": null,
   "metadata": {},
   "outputs": [],
   "source": [
    "#Preprocessing Phase 2 - Resolving Class Imbalance\n",
    "#Dataset has column \"Mortality Y / N\" which has value \"YES\" and \"NO\"\n",
    "# They are our target columns. It has 10,122 rows marked as \"YES\" and 469,565 marked as \"NO\"\n",
    "# We consider all rows (10,122) in file.csv marked as \"YES\" for final preprocessing\n",
    "# We also consider additional 23,367 rows marked as \"NO\" (out of 469,565) in final dataset.\n",
    "# All rows in the dataset will contain all surgeries, villages and hospital name at least once which was earlier mentioned in original dataset"
   ]
  },
  {
   "cell_type": "code",
   "execution_count": 186,
   "metadata": {},
   "outputs": [],
   "source": [
    "import pandas as pd\n",
    "df = pd.read_csv('file.csv');"
   ]
  },
  {
   "cell_type": "code",
   "execution_count": 187,
   "metadata": {},
   "outputs": [
    {
     "name": "stdout",
     "output_type": "stream",
     "text": [
      "len df1: 10122\n",
      "len df2: 469565 \n",
      "\n"
     ]
    }
   ],
   "source": [
    "#Apply filter to obtain rows of 2 different class\n",
    "df1  =  df[df[\"Mortality Y / N\"]==\"YES\"]\n",
    "print(\"len df1:\",len(df1))\n",
    "df2  =  df[df[\"Mortality Y / N\"]==\"NO\"]\n",
    "print(\"len df2:\",len(df2),\"\\n\")"
   ]
  },
  {
   "cell_type": "code",
   "execution_count": 210,
   "metadata": {},
   "outputs": [],
   "source": [
    "dist =  df1[\"SURGERY_CODE\"].unique() #obtain all surgery_code mentioned in \"SURGERY_CODE\" column\n",
    "\n",
    "df3  = pd.DataFrame()\n",
    "chunks = [];\n",
    "for x in dist:\n",
    "    df_i1 = df1[df1[\"SURGERY_CODE\"]  == x]  #Mortality = y & Surgery = x\n",
    "    length_y = len(df_i1)\n",
    "    df_i2 = df2[df2[\"SURGERY_CODE\"]  == x]  #Mortality = N & Surgery = x\n",
    "    length_n = len(df_i2)\n",
    "    #print(x,\" length1:\", length1,\" length2:\", length2)\n",
    "    if length_y < length_n:\n",
    "        df_i3 = df_i2.sample(n=length_y, replace=False)   #Select equal number of Mortality = \"Yes\" and Mortality = \"No\" for each surgery\n",
    "        chunks.append(df_i3)\n",
    "    #if length_n > length_y:\n",
    "     #   df_i3 = df_i1.sample(n=length_n, replace=False)\n",
    "      #  chunks.append(df_i1)\n",
    "     \n",
    "        \n",
    "df3 = pd.concat(chunks, ignore_index=True) #join all the dataframe chunks\n",
    "\n",
    "frame = [df3, df1]\n",
    "df5 = pd.concat(frame, ignore_index=True)"
   ]
  },
  {
   "cell_type": "code",
   "execution_count": 211,
   "metadata": {
    "scrolled": true
   },
   "outputs": [
    {
     "name": "stdout",
     "output_type": "stream",
     "text": [
      "<class 'pandas.core.frame.DataFrame'>\n",
      "RangeIndex: 9951 entries, 0 to 9950\n",
      "Data columns (total 16 columns):\n",
      "AGE                       9951 non-null int64\n",
      "SEX                       9951 non-null object\n",
      "CASTE_NAME                9951 non-null object\n",
      "CATEGORY_CODE             9951 non-null object\n",
      "SURGERY_CODE              9951 non-null object\n",
      "VILLAGE                   9951 non-null object\n",
      "MANDAL_NAME               9951 non-null object\n",
      "DISTRICT_NAME             9951 non-null object\n",
      "PREAUTH_AMT               9951 non-null int64\n",
      "HOSP_NAME                 9951 non-null object\n",
      "HOSP_TYPE                 9951 non-null object\n",
      "HOSP_DISTRICT             9951 non-null object\n",
      "Mortality Y / N           9951 non-null object\n",
      "SRC_REGISTRATION          9951 non-null object\n",
      "Diff_SURGERY_PREAUTH      9951 non-null int64\n",
      "Diff_Discharge_PREAUTH    9951 non-null int64\n",
      "dtypes: int64(4), object(12)\n",
      "memory usage: 1.2+ MB\n",
      "<class 'pandas.core.frame.DataFrame'>\n",
      "RangeIndex: 20073 entries, 0 to 20072\n",
      "Data columns (total 16 columns):\n",
      "AGE                       20073 non-null int64\n",
      "SEX                       20073 non-null object\n",
      "CASTE_NAME                20073 non-null object\n",
      "CATEGORY_CODE             20073 non-null object\n",
      "SURGERY_CODE              20073 non-null object\n",
      "VILLAGE                   20073 non-null object\n",
      "MANDAL_NAME               20073 non-null object\n",
      "DISTRICT_NAME             20073 non-null object\n",
      "PREAUTH_AMT               20073 non-null int64\n",
      "HOSP_NAME                 20073 non-null object\n",
      "HOSP_TYPE                 20073 non-null object\n",
      "HOSP_DISTRICT             20073 non-null object\n",
      "Mortality Y / N           20073 non-null object\n",
      "SRC_REGISTRATION          20073 non-null object\n",
      "Diff_SURGERY_PREAUTH      20073 non-null int64\n",
      "Diff_Discharge_PREAUTH    20073 non-null int64\n",
      "dtypes: int64(4), object(12)\n",
      "memory usage: 2.5+ MB\n"
     ]
    },
    {
     "data": {
      "text/plain": [
       "YES    10122\n",
       "NO      9951\n",
       "Name: Mortality Y / N, dtype: int64"
      ]
     },
     "execution_count": 211,
     "metadata": {},
     "output_type": "execute_result"
    }
   ],
   "source": [
    "df3.info()\n",
    "df3[\"Mortality Y / N\"].value_counts()\n",
    "df5.info()\n",
    "df5[\"Mortality Y / N\"].value_counts()\n"
   ]
  },
  {
   "cell_type": "code",
   "execution_count": 213,
   "metadata": {},
   "outputs": [],
   "source": [
    "dist2 = df[\"SURGERY_CODE\"].unique()\n",
    "dist3 = df5[\"SURGERY_CODE\"].unique()\n",
    "dist4 = sorted(list(set(dist2) - set(dist3))) #List of surgery code missed out in previous operation are added"
   ]
  },
  {
   "cell_type": "code",
   "execution_count": 216,
   "metadata": {},
   "outputs": [
    {
     "name": "stdout",
     "output_type": "stream",
     "text": [
      "<class 'pandas.core.frame.DataFrame'>\n",
      "Int64Index: 20048 entries, 0 to 20072\n",
      "Data columns (total 16 columns):\n",
      "AGE                       20048 non-null int64\n",
      "SEX                       20048 non-null object\n",
      "CASTE_NAME                20048 non-null object\n",
      "CATEGORY_CODE             20048 non-null object\n",
      "SURGERY_CODE              20048 non-null object\n",
      "VILLAGE                   20048 non-null object\n",
      "MANDAL_NAME               20048 non-null object\n",
      "DISTRICT_NAME             20048 non-null object\n",
      "PREAUTH_AMT               20048 non-null int64\n",
      "HOSP_NAME                 20048 non-null object\n",
      "HOSP_TYPE                 20048 non-null object\n",
      "HOSP_DISTRICT             20048 non-null object\n",
      "Mortality Y / N           20048 non-null object\n",
      "SRC_REGISTRATION          20048 non-null object\n",
      "Diff_SURGERY_PREAUTH      20048 non-null int64\n",
      "Diff_Discharge_PREAUTH    20048 non-null int64\n",
      "dtypes: int64(4), object(12)\n",
      "memory usage: 2.6+ MB\n"
     ]
    },
    {
     "data": {
      "text/plain": [
       "YES    10119\n",
       "NO      9929\n",
       "Name: Mortality Y / N, dtype: int64"
      ]
     },
     "execution_count": 216,
     "metadata": {},
     "output_type": "execute_result"
    }
   ],
   "source": [
    "chunks=[]\n",
    "for x in dist4:\n",
    "    df_i2 = df2[df2[\"SURGERY_CODE\"] == x] #Mortality = N & Surgery = x\n",
    "    df_i4 = df_i2.sample() #Randomly, one row is selected with missing surgery_code and then added to dataframe\n",
    "    chunks.append(df_i4)\n",
    "\n",
    "df4= pd.concat(chunks, ignore_index=True)\n",
    "\n",
    "frame = [df5, df4]\n",
    "df6 = pd.concat(frame, ignore_index=True)\n",
    "df6.to_csv(\"file2.csv\")\n",
    "df6 =  df5.drop_duplicates(keep = 'first')\n",
    "df6.info()\n",
    "df6[\"Mortality Y / N\"].value_counts()"
   ]
  },
  {
   "cell_type": "code",
   "execution_count": 219,
   "metadata": {},
   "outputs": [
    {
     "name": "stdout",
     "output_type": "stream",
     "text": [
      "<class 'pandas.core.frame.DataFrame'>\n",
      "Int64Index: 20416 entries, 0 to 20422\n",
      "Data columns (total 16 columns):\n",
      "AGE                       20416 non-null int64\n",
      "SEX                       20416 non-null object\n",
      "CASTE_NAME                20416 non-null object\n",
      "CATEGORY_CODE             20416 non-null object\n",
      "SURGERY_CODE              20416 non-null object\n",
      "VILLAGE                   20416 non-null object\n",
      "MANDAL_NAME               20416 non-null object\n",
      "DISTRICT_NAME             20416 non-null object\n",
      "PREAUTH_AMT               20416 non-null int64\n",
      "HOSP_NAME                 20416 non-null object\n",
      "HOSP_TYPE                 20416 non-null object\n",
      "HOSP_DISTRICT             20416 non-null object\n",
      "Mortality Y / N           20416 non-null object\n",
      "SRC_REGISTRATION          20416 non-null object\n",
      "Diff_SURGERY_PREAUTH      20416 non-null int64\n",
      "Diff_Discharge_PREAUTH    20416 non-null int64\n",
      "dtypes: int64(4), object(12)\n",
      "memory usage: 2.6+ MB\n"
     ]
    },
    {
     "data": {
      "text/plain": [
       "NO     10297\n",
       "YES    10119\n",
       "Name: Mortality Y / N, dtype: int64"
      ]
     },
     "execution_count": 219,
     "metadata": {},
     "output_type": "execute_result"
    }
   ],
   "source": [
    "x = 10119 - 9929\n",
    "df_ = df2.sample(n=x, replace=False)\n",
    "frame = [df6, df_]\n",
    "df6 = pd.concat(frame, ignore_index=True)\n",
    "df6 = df6.drop_duplicates(keep = 'first')\n",
    "df6.info()\n",
    "df6[\"Mortality Y / N\"].value_counts()"
   ]
  },
  {
   "cell_type": "code",
   "execution_count": 220,
   "metadata": {},
   "outputs": [],
   "source": [
    "file1 = open(\"file2.csv\",\"w\")\n",
    "file1.truncate(0)\n",
    "file1.close()\n",
    "df6.to_csv(\"file2.csv\")"
   ]
  },
  {
   "cell_type": "code",
   "execution_count": null,
   "metadata": {},
   "outputs": [],
   "source": [
    "#Preprocessing phase 3 - preparing dataset for Naive Bayes, Logistic Regression and Decision Tree"
   ]
  },
  {
   "cell_type": "code",
   "execution_count": 5,
   "metadata": {},
   "outputs": [
    {
     "name": "stdout",
     "output_type": "stream",
     "text": [
      "read copy successful\n"
     ]
    }
   ],
   "source": [
    "df = pd.read_csv('file2.csv');\n",
    "df = df.drop(df.columns[0], axis=1)\n",
    "\n",
    "df_raw=df.copy(deep=True)\n",
    "df_nb = df_raw.copy(deep =True)\n",
    "print(\"read copy successful\")\n",
    "#Bin conversion for numerical data\n",
    "df_nb['AGE'] = pd.cut(df_nb['AGE'],10)\n",
    "df_nb['PREAUTH_AMT'] = pd.cut(df_nb['PREAUTH_AMT'],6)\n",
    "df_nb['Diff_SURGERY_PREAUTH'] = pd.cut(df_nb['Diff_SURGERY_PREAUTH'],7)\n",
    "df_nb['Diff_Discharge_PREAUTH'] = pd.cut(df_nb['Diff_Discharge_PREAUTH'],9)\n",
    "\n",
    "client = Client(processes = False) #dask is running at backend for joblib"
   ]
  },
  {
   "cell_type": "code",
   "execution_count": 6,
   "metadata": {},
   "outputs": [
    {
     "name": "stdout",
     "output_type": "stream",
     "text": [
      "y_encoded obtained\n",
      "df_nb obtained\n"
     ]
    }
   ],
   "source": [
    "with parallel_backend('dask'):\n",
    " y = df_nb['Mortality Y / N']\n",
    " le = preprocessing.LabelEncoder()\n",
    " le.fit(y)\n",
    " y_encoded = le.transform(y) # encode nominal labels to integers #####################################\n",
    "print(\"y_encoded obtained\")\n",
    "\n",
    "with parallel_backend('dask'):\n",
    " df_nb = pd.get_dummies(df_nb.drop('Mortality Y / N',axis=1))\n",
    "print(\"df_nb obtained\")"
   ]
  },
  {
   "cell_type": "code",
   "execution_count": 7,
   "metadata": {},
   "outputs": [
    {
     "name": "stdout",
     "output_type": "stream",
     "text": [
      "<class 'pandas.core.frame.DataFrame'>\n",
      "RangeIndex: 20416 entries, 0 to 20415\n",
      "Columns: 7462 entries, AGE_(-0.096, 9.6] to Diff_Discharge_PREAUTH_(424.778, 484.0]\n",
      "dtypes: uint8(7462)\n",
      "memory usage: 145.3 MB\n"
     ]
    }
   ],
   "source": [
    "df_nb.info()"
   ]
  },
  {
   "cell_type": "code",
   "execution_count": 8,
   "metadata": {},
   "outputs": [
    {
     "name": "stdout",
     "output_type": "stream",
     "text": [
      "train,test split\n"
     ]
    }
   ],
   "source": [
    "file1 = open(\"df_nb.csv\",\"w\")\n",
    "file1.truncate(0)\n",
    "file1.close()\n",
    "df_nb.to_csv(\"df_nb.csv\", index=False)\n",
    "\n",
    "\n",
    "#splitting data\n",
    "x_train, x_test, y_train, y_test = train_test_split(df_nb, y_encoded, test_size=0.3)\n",
    "print(\"train,test split\")"
   ]
  },
  {
   "cell_type": "code",
   "execution_count": 9,
   "metadata": {},
   "outputs": [],
   "source": [
    "clf1 = GaussianNB()\n",
    "clf2 = LogisticRegression()\n",
    "clf3 = DecisionTreeClassifier()"
   ]
  },
  {
   "cell_type": "code",
   "execution_count": 10,
   "metadata": {},
   "outputs": [
    {
     "name": "stdout",
     "output_type": "stream",
     "text": [
      "file is closed\n",
      "file is closed\n",
      "file is closed\n",
      "file is closed\n",
      "file is closed\n",
      "file is closed\n"
     ]
    }
   ],
   "source": [
    "#path where models are saved are cleared\n",
    "filename1  = 'C:\\\\Jupyter Notebook\\\\ITMD_525 Data Mining Project\\\\models\\\\NaiveBayes.sav'\n",
    "filename2  = 'C:\\\\Jupyter Notebook\\\\ITMD_525 Data Mining Project\\\\models\\\\LogisticRegression.sav'\n",
    "filename3  = 'C:\\\\Jupyter Notebook\\\\ITMD_525 Data Mining Project\\\\models\\\\DecisionTree.sav'\n",
    "\n",
    "filename4  = 'C:\\\\Jupyter Notebook\\\\ITMD_525 Data Mining Project\\\\models\\\\KNN.sav'\n",
    "filename5  = 'C:\\\\Jupyter Notebook\\\\ITMD_525 Data Mining Project\\\\models\\\\SVM.sav'\n",
    "filename6  = 'C:\\\\Jupyter Notebook\\\\ITMD_525 Data Mining Project\\\\models\\\\NN.sav'\n",
    "\n",
    "\n",
    "\n",
    "file = open(filename1,'r+')\n",
    "file.truncate(0)\n",
    "file.close()\n",
    "print(\"file is closed\")\n",
    "\n",
    "file = open(filename2,'r+')\n",
    "file.truncate(0)\n",
    "file.close()\n",
    "print(\"file is closed\")\n",
    "\n",
    "file = open(filename3,'r+')\n",
    "file.truncate(0)\n",
    "file.close()\n",
    "print(\"file is closed\")\n",
    "\n",
    "file = open(filename4,'r+')\n",
    "file.truncate(0)\n",
    "file.close()\n",
    "print(\"file is closed\")\n",
    "\n",
    "file = open(filename5,'r+')\n",
    "file.truncate(0)\n",
    "file.close()\n",
    "print(\"file is closed\")\n",
    "\n",
    "file = open(filename6,'r+')\n",
    "file.truncate(0)\n",
    "file.close()\n",
    "print(\"file is closed\")"
   ]
  },
  {
   "cell_type": "code",
   "execution_count": 12,
   "metadata": {},
   "outputs": [
    {
     "name": "stdout",
     "output_type": "stream",
     "text": [
      "Naive Bayes result: 0.5253877551020408\n",
      "Naive Bayes Accuracy by Hold-out Eval: 0.5253877551020408 , Precision:  0.5253877551020408 , Recall:  0.5253877551020408\n"
     ]
    }
   ],
   "source": [
    "clf1.fit(x_train, y_train)\n",
    "pickle.dump(clf1, open(filename1, 'wb'))\n",
    "loaded_model = pickle.load(open(filename1, 'rb'))\n",
    "y_pred=loaded_model.predict(x_test)\n",
    "result =  loaded_model.score(x_test,y_test)\n",
    "print(\"Naive Bayes result:\",result)\n",
    "print(\"Naive Bayes Accuracy by Hold-out Eval:\",accuracy_score(y_pred,y_test),', Precision: ',precision_score(y_test, y_pred, average='micro'),', Recall: ', recall_score(y_test, y_pred, average='micro'))\n"
   ]
  },
  {
   "cell_type": "code",
   "execution_count": 13,
   "metadata": {},
   "outputs": [
    {
     "name": "stderr",
     "output_type": "stream",
     "text": [
      "E:\\Anaconda3\\lib\\site-packages\\sklearn\\linear_model\\logistic.py:432: FutureWarning: Default solver will be changed to 'lbfgs' in 0.22. Specify a solver to silence this warning.\n",
      "  FutureWarning)\n"
     ]
    },
    {
     "name": "stdout",
     "output_type": "stream",
     "text": [
      "Logistic Regression result: 0.6204081632653061\n",
      "Logistic Regressionn Accuracy by Hold-out Eval: 0.6204081632653061 , Precision:  0.6204081632653061 , Recall:  0.6204081632653061\n"
     ]
    }
   ],
   "source": [
    "clf2.fit(x_train, y_train)\n",
    "pickle.dump(clf2, open(filename2, 'wb'))\n",
    "loaded_model = pickle.load(open(filename2, 'rb'))\n",
    "y_pred = loaded_model.predict(x_test)\n",
    "result = loaded_model.score(x_test, y_test)\n",
    "print(\"Logistic Regression result:\", result)\n",
    "print(\"Logistic Regressionn Accuracy by Hold-out Eval:\", accuracy_score(y_pred, y_test),', Precision: ',precision_score(y_test, y_pred, average='micro'),', Recall: ', recall_score(y_test, y_pred, average='micro'))\n"
   ]
  },
  {
   "cell_type": "code",
   "execution_count": 21,
   "metadata": {},
   "outputs": [
    {
     "name": "stdout",
     "output_type": "stream",
     "text": [
      "Decision Tree result: 1.0\n",
      "Decision Tree Accuracy by Hold-out Eval: 1.0 , Precision:  1.0 , Recall:  1.0\n"
     ]
    }
   ],
   "source": [
    "clf3 = DecisionTreeClassifier()\n",
    "clf3.fit(x_train, y_train)\n",
    "pickle.dump(clf3, open(filename3, 'wb'))\n",
    "loaded_model = pickle.load(open(filename3, 'rb'))\n",
    "y_pred = loaded_model.predict(x_test)\n",
    "result = loaded_model.score(x_test, y_test)\n",
    "print(\"Decision Tree result:\", result)\n",
    "print(\"Decision Tree Accuracy by Hold-out Eval:\", accuracy_score(y_pred, y_test),', Precision: ',precision_score(y_test, y_pred, average='micro'),', Recall: ', recall_score(y_test, y_pred, average='micro'))\n"
   ]
  },
  {
   "cell_type": "code",
   "execution_count": null,
   "metadata": {},
   "outputs": [],
   "source": [
    "#Preprocessing phase 4 - preparing dataset for KNN, SVM and MLP"
   ]
  },
  {
   "cell_type": "code",
   "execution_count": 15,
   "metadata": {},
   "outputs": [
    {
     "name": "stdout",
     "output_type": "stream",
     "text": [
      "read copy successful\n"
     ]
    }
   ],
   "source": [
    "\n",
    "df = pd.read_csv('file2.csv');\n",
    "df = df.drop(df.columns[0], axis=1)\n",
    "df_raw=df.copy(deep=True)\n",
    "df_knn = df.copy(deep =True)\n",
    "print(\"read copy successful\")"
   ]
  },
  {
   "cell_type": "code",
   "execution_count": 16,
   "metadata": {},
   "outputs": [],
   "source": [
    "df_dummies=pd.get_dummies(df_knn[['SEX','CASTE_NAME','CATEGORY_CODE','SURGERY_CODE','VILLAGE','MANDAL_NAME','DISTRICT_NAME','HOSP_NAME','HOSP_TYPE','HOSP_DISTRICT','SRC_REGISTRATION']])\n",
    "# add them to dataframe\n",
    "df_knn=df_knn.join(df_dummies)\n",
    "# drop original columns\n",
    "df_knn=df_knn.drop('SEX',axis=1)\n",
    "df_knn=df_knn.drop('CASTE_NAME', axis=1)\n",
    "df_knn=df_knn.drop('CATEGORY_CODE', axis=1)\n",
    "df_knn=df_knn.drop('SURGERY_CODE', axis=1)\n",
    "df_knn=df_knn.drop('VILLAGE', axis=1)\n",
    "df_knn=df_knn.drop('MANDAL_NAME', axis=1)\n",
    "df_knn=df_knn.drop('DISTRICT_NAME', axis=1)\n",
    "df_knn=df_knn.drop('HOSP_NAME', axis=1)\n",
    "df_knn=df_knn.drop('HOSP_TYPE', axis=1)\n",
    "df_knn=df_knn.drop('HOSP_DISTRICT', axis=1)\n",
    "df_knn=df_knn.drop('SRC_REGISTRATION', axis=1)"
   ]
  },
  {
   "cell_type": "code",
   "execution_count": 17,
   "metadata": {},
   "outputs": [
    {
     "name": "stdout",
     "output_type": "stream",
     "text": [
      "Selected numerical columns:\n",
      " ['AGE', 'PREAUTH_AMT', 'Diff_SURGERY_PREAUTH', 'Diff_Discharge_PREAUTH']\n",
      "AGE\n",
      "PREAUTH_AMT\n",
      "Diff_SURGERY_PREAUTH\n",
      "Diff_Discharge_PREAUTH\n"
     ]
    }
   ],
   "source": [
    "numerics = ['int16', 'int32', 'int64', 'float16', 'float32', 'float64']\n",
    "cols_numeric = df_knn.select_dtypes(include=numerics).columns.tolist()\n",
    "print('Selected numerical columns:\\n',cols_numeric)\n",
    "\n",
    "for col in cols_numeric:\n",
    "    df_knn[col]=(df_knn[col]-df_knn[col].min())/(df_knn[col].max()-df_knn[col].min())\n",
    "    print(col)"
   ]
  },
  {
   "cell_type": "code",
   "execution_count": 18,
   "metadata": {},
   "outputs": [],
   "source": [
    "y = df_knn['Mortality Y / N'] # define label as nominal values\n",
    "le = preprocessing.LabelEncoder()\n",
    "le.fit(y)\n",
    "y_encoded = le.transform(y) # encode nominal labels to integers #####################################\n",
    "\n",
    "df_knn['Mortality Y / N'] = y_encoded\n",
    "x = df_knn.drop('Mortality Y / N',1)\n",
    "y = df_knn['Mortality Y / N']\n",
    "\n",
    "x_train, x_test, y_train, y_test = train_test_split(df_knn, y_encoded, test_size=0.3)"
   ]
  },
  {
   "cell_type": "code",
   "execution_count": 19,
   "metadata": {},
   "outputs": [
    {
     "name": "stdout",
     "output_type": "stream",
     "text": [
      "file is closed\n"
     ]
    }
   ],
   "source": [
    "file = open('df_knn.csv','r+')\n",
    "file.truncate(0)\n",
    "file.close()\n",
    "print(\"file is closed\")\n",
    "x.to_csv(\"df_knn.csv\");"
   ]
  },
  {
   "cell_type": "code",
   "execution_count": 235,
   "metadata": {},
   "outputs": [
    {
     "name": "stdout",
     "output_type": "stream",
     "text": [
      "<class 'pandas.core.frame.DataFrame'>\n",
      "RangeIndex: 20416 entries, 0 to 20415\n",
      "Columns: 7434 entries, AGE to SRC_REGISTRATION_P\n",
      "dtypes: float64(4), uint8(7430)\n",
      "memory usage: 145.3 MB\n"
     ]
    }
   ],
   "source": [
    "x.info()"
   ]
  },
  {
   "cell_type": "code",
   "execution_count": 22,
   "metadata": {},
   "outputs": [
    {
     "name": "stdout",
     "output_type": "stream",
     "text": [
      "K = 11 , Accuracy:  0.8943673469387755 , Precision:  0.8943673469387755 , Recall:  0.8943673469387755\n"
     ]
    }
   ],
   "source": [
    "k  = 11\n",
    "clf1 = neighbors.KNeighborsClassifier(k, weights='uniform')\n",
    "clf1.fit(x_train, y_train)\n",
    "joblib.dump(clf1, open(filename4, 'wb'))\n",
    "loaded_model = joblib.load(open(filename1, 'rb'))\n",
    "y_pred = clf1.predict(x_test)\n",
    "print('K =', k, ', Accuracy: ', accuracy_score(y_test, y_pred), ', Precision: ',precision_score(y_test, y_pred, average='micro'),', Recall: ', recall_score(y_test, y_pred, average='micro'))\n"
   ]
  },
  {
   "cell_type": "code",
   "execution_count": 20,
   "metadata": {},
   "outputs": [
    {
     "name": "stderr",
     "output_type": "stream",
     "text": [
      "E:\\Anaconda3\\lib\\site-packages\\sklearn\\svm\\base.py:193: FutureWarning: The default value of gamma will change from 'auto' to 'scale' in version 0.22 to account better for unscaled features. Set gamma explicitly to 'auto' or 'scale' to avoid this warning.\n",
      "  \"avoid this warning.\", FutureWarning)\n"
     ]
    },
    {
     "name": "stdout",
     "output_type": "stream",
     "text": [
      "SVC Accuracy by hold-out evaluation:  1.0\n",
      "Precision: 1.0\n",
      "Recall: 1.0\n"
     ]
    }
   ],
   "source": [
    "from sklearn.svm import SVC\n",
    "clf=SVC(kernel='rbf', C=1E10) # C is large -> hard margin; C is small -> soft margin\n",
    "clf=clf.fit(x_train, y_train)\n",
    "joblib.dump(clf1, open(filename5, 'wb'))\n",
    "loaded_model = joblib.load(open(filename5, 'rb'))\n",
    "y_pred=clf.predict(x_test)\n",
    "acc=accuracy_score(y_pred, y_test)\n",
    "prec=precision_score(y_test, y_pred)\n",
    "recall= recall_score(y_test, y_pred)\n",
    "print('SVC Accuracy by hold-out evaluation: ',acc)\n",
    "print(\"Precision:\",prec)\n",
    "print(\"Recall:\",recall)"
   ]
  },
  {
   "cell_type": "code",
   "execution_count": null,
   "metadata": {},
   "outputs": [],
   "source": [
    "from sklearn.neural_network import MLPClassifier\n",
    "clf=MLPClassifier(solver='lbfgs', alpha=1e-5,hidden_layer_sizes=(3000,1000, 2), random_state=1)\n",
    "clf=clf.fit(x_train, y_train)\n",
    "joblib.dump(clf1, open(filename6, 'wb'))\n",
    "loaded_model = joblib.load(open(filename6, 'rb'))\n",
    "y_pred=clf.predict(x_test)\n",
    "acc=accuracy_score(y_pred, y_test)\n",
    "prec=precision_score(y_test, y_pred, average='micro')\n",
    "recall= recall_score(y_test, y_pred, average='micro')\n",
    "print('Accuracy by hold-out evaluation: ',acc)\n",
    "print(\"Precision:\",prec)\n",
    "print(\"Recall:\",recall)"
   ]
  },
  {
   "cell_type": "code",
   "execution_count": null,
   "metadata": {},
   "outputs": [],
   "source": [
    "# Creation of server csv file (single row dataframe for server datafarame manipulation)\n",
    "#The  below code will create  single row dataframe which  will be required in server preprocessing\n",
    "# The single row will contain value 0 for all columns "
   ]
  },
  {
   "cell_type": "code",
   "execution_count": 244,
   "metadata": {},
   "outputs": [],
   "source": [
    "df = pd.read_csv(\"df_nb.csv\")\n",
    "df = df.iloc[0:0] #drop all rows\n",
    "col = df.columns\n",
    "for x in col:\n",
    "    df[x] = 0\n",
    "df.to_csv('file5.2.csv')    "
   ]
  },
  {
   "cell_type": "code",
   "execution_count": null,
   "metadata": {},
   "outputs": [],
   "source": [
    "#Server side preprocessing"
   ]
  },
  {
   "cell_type": "code",
   "execution_count": null,
   "metadata": {},
   "outputs": [],
   "source": [
    "from flask import Flask, redirect,request, url_for,render_template\n",
    "import datetime\n",
    "import pickle\n",
    "import pandas as pd\n",
    "import re\n",
    "import joblib\n",
    "\n",
    "app = Flask(__name__)\n",
    "\n",
    "@app.route('/submit/<name>')\n",
    "def submit(name):\n",
    "    return '%s' %  name\n",
    "\n",
    "@app.route('/', methods = ['GET'])\n",
    "def file2():\n",
    "    print(\"GET\")\n",
    "    return render_template(\"File1.html\")\n",
    "\n",
    "@app.route('/', methods = ['POST'])\n",
    "def file1():\n",
    "    if request.method ==  'POST':\n",
    "        print(\"POST\")\n",
    "        age =  request.form['AGE']\n",
    "        age = int(age)\n",
    "        sex = request.form['SEX']\n",
    "        sex = str(sex)\n",
    "        caste = request.form['Caste']\n",
    "        caste = str(caste)\n",
    "\n",
    "        surgery = request.form['SurgeryInput']\n",
    "        surgery = str(surgery)\n",
    "        surgery_ = surgery.split(\",\")\n",
    "        surgery1 = surgery_[1]\n",
    "        surgery2 = surgery_[3]\n",
    "\n",
    "        village = request.form['VillageInput']\n",
    "        village = str(village)\n",
    "        village_ = village.split(\",\")\n",
    "        village1 = village_[0]\n",
    "        village2 = village_[1]\n",
    "        village3 = village_[2]\n",
    "\n",
    "\n",
    "        preauth = request.form['PREAUTH_AMOUNT']\n",
    "        preauth = int(preauth)\n",
    "\n",
    "        hospital =  request.form['HospitalInput']\n",
    "        hospital = str(hospital)\n",
    "        hospital_ = hospital.split(\",\")\n",
    "        hospital1 = hospital_[0]\n",
    "        hospital2 = hospital_[1]\n",
    "        hospital3 = hospital_[2]\n",
    "\n",
    "        SRC_REGISTRATION = request.form['SRC']\n",
    "        SRC_REGISTRATION = str(SRC_REGISTRATION)\n",
    "\n",
    "        preauth_date = request.form['PREAUTH_DATE']\n",
    "        preauth_date = str(preauth_date)\n",
    "        preauth_date = datetime.datetime.strptime(preauth_date, '%Y-%m-%d')\n",
    "\n",
    "        surgery_date = request.form['SURGERY_DATE']\n",
    "        surgery_date = str(surgery_date)\n",
    "        surgery_date = datetime.datetime.strptime(surgery_date,'%Y-%m-%d')\n",
    "\n",
    "        discharge_date = request.form['DISCHARGE_DATE']\n",
    "        discharge_date = str(discharge_date)\n",
    "        discharge_date = datetime.datetime.strptime(discharge_date, '%Y-%m-%d')\n",
    "\n",
    "        Diff_SURGERY_PREAUTH = surgery_date - preauth_date\n",
    "        Diff_Discharge_PREAUTH = discharge_date - preauth_date\n",
    "        Diff_SURGERY_PREAUTH = Diff_SURGERY_PREAUTH.days\n",
    "        Diff_Discharge_PREAUTH = Diff_Discharge_PREAUTH.days\n",
    "        Diff_Discharge_PREAUTH = int(Diff_Discharge_PREAUTH)\n",
    "        Diff_SURGERY_PREAUTH = int(Diff_SURGERY_PREAUTH)\n",
    "        \n",
    "        \n",
    "        \n",
    "        \n",
    "        df2 = pd.read_csv(\"file5.1.csv\")\n",
    "        print(\"df2 read complete\")\n",
    "        column = col = df2.columns\n",
    "        \n",
    "        \n",
    "        if sex == \"Male\":      #This code sippet will find column to be updated and chage value from 0 to 1\n",
    "            df2[\"SEX_Male\"] = [1]\n",
    "        else:\n",
    "            df2[\"SEX_Female\"] = [1]\n",
    "\n",
    "        cs = \"CASTE_NAME_\" + caste\n",
    "        if cs in column:\n",
    "            df2[cs] = [1]\n",
    "\n",
    "        cs = \"CATEGORY_CODE_\" + surgery1\n",
    "        if cs in column:\n",
    "            df2[cs] = [1]\n",
    "\n",
    "        cs = \"SURGERY_CODE_\" + surgery2\n",
    "        if cs in column:\n",
    "            df2[cs] = [1]\n",
    "\n",
    "        cs = \"VILLAGE_\" + village1\n",
    "        if cs in column:\n",
    "            df2[cs] = [1]\n",
    "\n",
    "        cs = \"MANDAL_NAME_\" + village2\n",
    "        if cs in column:\n",
    "            df2[cs] = [1]\n",
    "\n",
    "        cs = \"DISTRICT_NAME_\" + village3\n",
    "        if cs in column:\n",
    "            df2[cs] = [1]\n",
    "\n",
    "        cs = \"HOSP_NAME_\" + hospital1\n",
    "        if cs in column:\n",
    "            df2[cs] = [1]\n",
    "\n",
    "        cs = \"HOSP_TYPE_\" + hospital2\n",
    "        if cs in column:\n",
    "            df2[cs] = [1]\n",
    "\n",
    "        cs = \"HOSP_DISTRICT_\" + hospital3\n",
    "        if cs in column:\n",
    "            df2[cs] = [1]\n",
    "\n",
    "        cs = \"SRC_REGISTRATION_\" + SRC_REGISTRATION\n",
    "        if cs in column:\n",
    "            df2[cs] = [1]\n",
    "            \n",
    "            \"\"\"\n",
    "        #knn svm MLP preprocessing min max normalization of numeric colums\n",
    "        max_age = 96; min_age = 0;\n",
    "\n",
    "        if age >= max_age: # we are not considering age<min_age beacause html has conditions to make sure age is always >=0  \n",
    "            df2[\"AGE\"] = [1]\n",
    "\n",
    "        elif age < max_age:\n",
    "            age = (age-min_age)/(max_age-min_age)\n",
    "            df2[\"AGE\"] = [age]\n",
    "\n",
    "        min_preauth_amt = 500;\n",
    "        max_preauth_amt = 52000;\n",
    "\n",
    "        if preauth >= max_preauth_amt:\n",
    "            df2[\"PREAUTH_AMT\"] = [1]\n",
    "\n",
    "        elif preauth < max_preauth_amt:\n",
    "            preauth = (preauth - min_preauth_amt) / (max_preauth_amt - min_preauth_amt)\n",
    "            df2[\"PREAUTH_AMT\"] = [preauth]\n",
    "\n",
    "        min_Diff_SURGERY_PREAUTH = -94;\n",
    "        max_Diff_SURGERY_PREAUTH = 424;\n",
    "\n",
    "        if Diff_SURGERY_PREAUTH >= max_Diff_SURGERY_PREAUTH:\n",
    "            df2[\"Diff_SURGERY_PREAUTH\"] = [1]\n",
    "\n",
    "        elif min_Diff_SURGERY_PREAUTH < Diff_SURGERY_PREAUTH < max_Diff_SURGERY_PREAUTH :\n",
    "            diff = (Diff_SURGERY_PREAUTH - min_Diff_SURGERY_PREAUTH) / (max_Diff_SURGERY_PREAUTH - min_Diff_SURGERY_PREAUTH)\n",
    "            df2[\"Diff_SURGERY_PREAUTH\"] = [diff]\n",
    "\n",
    "        elif Diff_SURGERY_PREAUTH <= min_Diff_SURGERY_PREAUTH:\n",
    "            df2[\"Diff_SURGERY_PREAUTH\"] = [0]\n",
    "\n",
    "        min_Diff_Discharge_PREAUTH = -49;\n",
    "        max_Diff_Discharge_PREAUTH = 484;\n",
    "\n",
    "        if Diff_Discharge_PREAUTH >= max_Diff_Discharge_PREAUTH:\n",
    "            df2[\"Diff_Discharge_PREAUTH\"] = [1]\n",
    "\n",
    "        elif min_Diff_Discharge_PREAUTH < Diff_Discharge_PREAUTH < max_Diff_Discharge_PREAUTH:\n",
    "            diff = (Diff_Discharge_PREAUTH - min_Diff_Discharge_PREAUTH) / (max_Diff_Discharge_PREAUTH - min_Diff_Discharge_PREAUTH)\n",
    "            df2[\"Diff_Discharge_PREAUTH\"] = [diff]\n",
    "\n",
    "        elif Diff_Discharge_PREAUTH <= min_Diff_Discharge_PREAUTH:\n",
    "            df2[\"Diff_Discharge_PREAUTH\"] = [0]\n",
    "        \"\"\"\n",
    "#The below code will find preauth amount where it needs to be update.\n",
    "#For  example if PREAUTH_AMT is 12500 and we have column PREAUTH_AMT_(1000, 15000], then it will update that row value from 0 to 1\n",
    "\n",
    "        for i in col:\n",
    "            string1 = str(df2[i].name)\n",
    "            if \"PREAUTH_AMT\" in string1:\n",
    "                s = re.findall(r\"[-+]?\\d*\\.\\d+|\\d+\", string1)\n",
    "                #print(string1,s)\n",
    "                if preauth in range(int(float(s[0])), int(float(s[1]))):\n",
    "                    #print(\"string1:\", preauth)\n",
    "                    df2[i] = [1]\n",
    "                    \n",
    "#The below code will find Diff_SURGERY_PREAUTH where it needs to be update.\n",
    "#For  example if Diff_SURGERY_PREAUTH is 17 and we have column Diff_SURGERY_PREAUTH_(15, 20], then it will update that row value from 0 to 1          \n",
    "        for i in col:\n",
    "            string1 = str(df2[i].name)\n",
    "            if \"Diff_SURGERY_PREAUTH\" in string1:\n",
    "                s = re.findall(r\"[-+]?\\d*\\.\\d+|\\d+\", string1)\n",
    "                # print(string1,s)\n",
    "                if preauth in range(int(float(s[0])), int(float(s[1]))):\n",
    "                    #print(\"string1:\", preauth)\n",
    "                    df2[i] = [1]\n",
    "\n",
    "#The below code will find Diff_Discharge_PREAUTH where it needs to be update.\n",
    "#For  example if Diff_Discharge_PREAUTH is 17 and we have column Diff_Discharge_PREAUTH_(15, 20], then it will update that row value from 0 to 1          \n",
    "\n",
    "        for i in col:\n",
    "            string1 = str(df2[i].name)\n",
    "            if \"Diff_Discharge_PREAUTH\" in string1:\n",
    "                s = re.findall(r\"[-+]?\\d*\\.\\d+|\\d+\", string1)\n",
    "                # print(string1,s)\n",
    "                if Diff_Discharge_PREAUTH in range(int(float(s[0])), int(float(s[1]))):\n",
    "                    #print(\"string1:\", preauth)\n",
    "                    df2[i] = [1]\n",
    "\n",
    "        print(\"Update Complete\")\n",
    "        filename1 = 'DecisionTree.sav'\n",
    "        loaded_model = joblib.load(open(filename1, 'rb'))\n",
    "        print(\"Prediction Begin\")\n",
    "\n",
    "   \n",
    "        y_pred = loaded_model.predict(df2)\n",
    "\n",
    "        if y_pred[0] ==  0:\n",
    "            string2 = \"Low Risk\"\n",
    "        if y_pred[0] ==  1:\n",
    "            string2 = \"High Risk- Please cotact your doctor immediately\"\n",
    "        return redirect(url_for('submit', name=string2)) #this will redirect output to /submit endpoint\n",
    "\n",
    "\n",
    "    else:\n",
    "        print(\"GET\")\n",
    "        string2 = \"GET\"\n",
    "        return redirect(url_for('submit', name=string2))\n",
    "\n",
    "\n",
    "\n",
    "if __name__  == '__main__':\n",
    "    app.run()"
   ]
  },
  {
   "cell_type": "markdown",
   "metadata": {},
   "source": [
    "Please see the following links for deploymnet information:\n",
    "https://nameless-ridge-68144.herokuapp.com/\n",
    "https://github.com/shaarang11/src9"
   ]
  }
 ],
 "metadata": {
  "kernelspec": {
   "display_name": "Python 3",
   "language": "python",
   "name": "python3"
  },
  "language_info": {
   "codemirror_mode": {
    "name": "ipython",
    "version": 3
   },
   "file_extension": ".py",
   "mimetype": "text/x-python",
   "name": "python",
   "nbconvert_exporter": "python",
   "pygments_lexer": "ipython3",
   "version": "3.7.4"
  }
 },
 "nbformat": 4,
 "nbformat_minor": 2
}
